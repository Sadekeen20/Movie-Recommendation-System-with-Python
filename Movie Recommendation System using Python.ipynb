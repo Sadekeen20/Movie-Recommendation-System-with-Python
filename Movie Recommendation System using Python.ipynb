{
  "cells": [
    {
      "metadata": {},
      "cell_type": "markdown",
      "source": "___\n# Movie Recommendation System using Python\n   [Dipan Sadekeen]"
    },
    {
      "metadata": {
        "trusted": true
      },
      "cell_type": "code",
      "source": "import numpy as np\nimport pandas as pd",
      "execution_count": 2,
      "outputs": []
    },
    {
      "metadata": {
        "trusted": true
      },
      "cell_type": "code",
      "source": "rating = pd.read_csv('ratings.csv')",
      "execution_count": 62,
      "outputs": []
    },
    {
      "metadata": {
        "trusted": true
      },
      "cell_type": "code",
      "source": "rating.head()",
      "execution_count": 63,
      "outputs": [
        {
          "output_type": "execute_result",
          "execution_count": 63,
          "data": {
            "text/plain": "   userId  movieId  rating  timestamp\n0       1        1     4.0  964982703\n1       1        3     4.0  964981247\n2       1        6     4.0  964982224\n3       1       47     5.0  964983815\n4       1       50     5.0  964982931",
            "text/html": "<div>\n<table border=\"1\" class=\"dataframe\">\n  <thead>\n    <tr style=\"text-align: right;\">\n      <th></th>\n      <th>userId</th>\n      <th>movieId</th>\n      <th>rating</th>\n      <th>timestamp</th>\n    </tr>\n  </thead>\n  <tbody>\n    <tr>\n      <th>0</th>\n      <td>1</td>\n      <td>1</td>\n      <td>4.0</td>\n      <td>964982703</td>\n    </tr>\n    <tr>\n      <th>1</th>\n      <td>1</td>\n      <td>3</td>\n      <td>4.0</td>\n      <td>964981247</td>\n    </tr>\n    <tr>\n      <th>2</th>\n      <td>1</td>\n      <td>6</td>\n      <td>4.0</td>\n      <td>964982224</td>\n    </tr>\n    <tr>\n      <th>3</th>\n      <td>1</td>\n      <td>47</td>\n      <td>5.0</td>\n      <td>964983815</td>\n    </tr>\n    <tr>\n      <th>4</th>\n      <td>1</td>\n      <td>50</td>\n      <td>5.0</td>\n      <td>964982931</td>\n    </tr>\n  </tbody>\n</table>\n</div>"
          },
          "metadata": {}
        }
      ]
    },
    {
      "metadata": {},
      "cell_type": "markdown",
      "source": "Now let's get the movie titles:"
    },
    {
      "metadata": {
        "trusted": true
      },
      "cell_type": "code",
      "source": "movie = pd.read_csv(\"movies.csv\")\nmovie.head()",
      "execution_count": 64,
      "outputs": [
        {
          "output_type": "execute_result",
          "execution_count": 64,
          "data": {
            "text/plain": "   movieId                               title  \\\n0        1                    Toy Story (1995)   \n1        2                      Jumanji (1995)   \n2        3             Grumpier Old Men (1995)   \n3        4            Waiting to Exhale (1995)   \n4        5  Father of the Bride Part II (1995)   \n\n                                        genres  \n0  Adventure|Animation|Children|Comedy|Fantasy  \n1                   Adventure|Children|Fantasy  \n2                               Comedy|Romance  \n3                         Comedy|Drama|Romance  \n4                                       Comedy  ",
            "text/html": "<div>\n<table border=\"1\" class=\"dataframe\">\n  <thead>\n    <tr style=\"text-align: right;\">\n      <th></th>\n      <th>movieId</th>\n      <th>title</th>\n      <th>genres</th>\n    </tr>\n  </thead>\n  <tbody>\n    <tr>\n      <th>0</th>\n      <td>1</td>\n      <td>Toy Story (1995)</td>\n      <td>Adventure|Animation|Children|Comedy|Fantasy</td>\n    </tr>\n    <tr>\n      <th>1</th>\n      <td>2</td>\n      <td>Jumanji (1995)</td>\n      <td>Adventure|Children|Fantasy</td>\n    </tr>\n    <tr>\n      <th>2</th>\n      <td>3</td>\n      <td>Grumpier Old Men (1995)</td>\n      <td>Comedy|Romance</td>\n    </tr>\n    <tr>\n      <th>3</th>\n      <td>4</td>\n      <td>Waiting to Exhale (1995)</td>\n      <td>Comedy|Drama|Romance</td>\n    </tr>\n    <tr>\n      <th>4</th>\n      <td>5</td>\n      <td>Father of the Bride Part II (1995)</td>\n      <td>Comedy</td>\n    </tr>\n  </tbody>\n</table>\n</div>"
          },
          "metadata": {}
        }
      ]
    },
    {
      "metadata": {},
      "cell_type": "markdown",
      "source": "We can merge them together:"
    },
    {
      "metadata": {
        "trusted": true
      },
      "cell_type": "code",
      "source": "df = pd.merge(rating,movie,on='movieId')\ndf.head()",
      "execution_count": 65,
      "outputs": [
        {
          "output_type": "execute_result",
          "execution_count": 65,
          "data": {
            "text/plain": "   userId  movieId  rating   timestamp             title  \\\n0       1        1     4.0   964982703  Toy Story (1995)   \n1       5        1     4.0   847434962  Toy Story (1995)   \n2       7        1     4.5  1106635946  Toy Story (1995)   \n3      15        1     2.5  1510577970  Toy Story (1995)   \n4      17        1     4.5  1305696483  Toy Story (1995)   \n\n                                        genres  \n0  Adventure|Animation|Children|Comedy|Fantasy  \n1  Adventure|Animation|Children|Comedy|Fantasy  \n2  Adventure|Animation|Children|Comedy|Fantasy  \n3  Adventure|Animation|Children|Comedy|Fantasy  \n4  Adventure|Animation|Children|Comedy|Fantasy  ",
            "text/html": "<div>\n<table border=\"1\" class=\"dataframe\">\n  <thead>\n    <tr style=\"text-align: right;\">\n      <th></th>\n      <th>userId</th>\n      <th>movieId</th>\n      <th>rating</th>\n      <th>timestamp</th>\n      <th>title</th>\n      <th>genres</th>\n    </tr>\n  </thead>\n  <tbody>\n    <tr>\n      <th>0</th>\n      <td>1</td>\n      <td>1</td>\n      <td>4.0</td>\n      <td>964982703</td>\n      <td>Toy Story (1995)</td>\n      <td>Adventure|Animation|Children|Comedy|Fantasy</td>\n    </tr>\n    <tr>\n      <th>1</th>\n      <td>5</td>\n      <td>1</td>\n      <td>4.0</td>\n      <td>847434962</td>\n      <td>Toy Story (1995)</td>\n      <td>Adventure|Animation|Children|Comedy|Fantasy</td>\n    </tr>\n    <tr>\n      <th>2</th>\n      <td>7</td>\n      <td>1</td>\n      <td>4.5</td>\n      <td>1106635946</td>\n      <td>Toy Story (1995)</td>\n      <td>Adventure|Animation|Children|Comedy|Fantasy</td>\n    </tr>\n    <tr>\n      <th>3</th>\n      <td>15</td>\n      <td>1</td>\n      <td>2.5</td>\n      <td>1510577970</td>\n      <td>Toy Story (1995)</td>\n      <td>Adventure|Animation|Children|Comedy|Fantasy</td>\n    </tr>\n    <tr>\n      <th>4</th>\n      <td>17</td>\n      <td>1</td>\n      <td>4.5</td>\n      <td>1305696483</td>\n      <td>Toy Story (1995)</td>\n      <td>Adventure|Animation|Children|Comedy|Fantasy</td>\n    </tr>\n  </tbody>\n</table>\n</div>"
          },
          "metadata": {}
        }
      ]
    },
    {
      "metadata": {},
      "cell_type": "markdown",
      "source": "\n## Exploratory Data Analysis"
    },
    {
      "metadata": {
        "trusted": true
      },
      "cell_type": "code",
      "source": "import matplotlib.pyplot as plt\nimport seaborn as sns\nsns.set_style('white')\n%matplotlib inline",
      "execution_count": 66,
      "outputs": []
    },
    {
      "metadata": {},
      "cell_type": "markdown",
      "source": "Let's create a ratings dataframe with average rating and number of ratings:"
    },
    {
      "metadata": {
        "trusted": true
      },
      "cell_type": "code",
      "source": "df.groupby('title')['rating'].mean().sort_values(ascending=False).head()",
      "execution_count": 67,
      "outputs": [
        {
          "output_type": "execute_result",
          "execution_count": 67,
          "data": {
            "text/plain": "title\nKarlson Returns (1970)                           5.0\nWinter in Prostokvashino (1984)                  5.0\nMy Love (2006)                                   5.0\nSorority House Massacre II (1990)                5.0\nWinnie the Pooh and the Day of Concern (1972)    5.0\nName: rating, dtype: float64"
          },
          "metadata": {}
        }
      ]
    },
    {
      "metadata": {
        "trusted": true
      },
      "cell_type": "code",
      "source": "df.groupby('title')['rating'].count().sort_values(ascending=False).head()",
      "execution_count": 68,
      "outputs": [
        {
          "output_type": "execute_result",
          "execution_count": 68,
          "data": {
            "text/plain": "title\nForrest Gump (1994)                 329\nShawshank Redemption, The (1994)    317\nPulp Fiction (1994)                 307\nSilence of the Lambs, The (1991)    279\nMatrix, The (1999)                  278\nName: rating, dtype: int64"
          },
          "metadata": {}
        }
      ]
    },
    {
      "metadata": {
        "trusted": true
      },
      "cell_type": "code",
      "source": "ratings = pd.DataFrame(df.groupby('title')['rating'].mean())\nratings.head()",
      "execution_count": 69,
      "outputs": [
        {
          "output_type": "execute_result",
          "execution_count": 69,
          "data": {
            "text/plain": "                                         rating\ntitle                                          \n'71 (2014)                                  4.0\n'Hellboy': The Seeds of Creation (2004)     4.0\n'Round Midnight (1986)                      3.5\n'Salem's Lot (2004)                         5.0\n'Til There Was You (1997)                   4.0",
            "text/html": "<div>\n<table border=\"1\" class=\"dataframe\">\n  <thead>\n    <tr style=\"text-align: right;\">\n      <th></th>\n      <th>rating</th>\n    </tr>\n    <tr>\n      <th>title</th>\n      <th></th>\n    </tr>\n  </thead>\n  <tbody>\n    <tr>\n      <th>'71 (2014)</th>\n      <td>4.0</td>\n    </tr>\n    <tr>\n      <th>'Hellboy': The Seeds of Creation (2004)</th>\n      <td>4.0</td>\n    </tr>\n    <tr>\n      <th>'Round Midnight (1986)</th>\n      <td>3.5</td>\n    </tr>\n    <tr>\n      <th>'Salem's Lot (2004)</th>\n      <td>5.0</td>\n    </tr>\n    <tr>\n      <th>'Til There Was You (1997)</th>\n      <td>4.0</td>\n    </tr>\n  </tbody>\n</table>\n</div>"
          },
          "metadata": {}
        }
      ]
    },
    {
      "metadata": {},
      "cell_type": "markdown",
      "source": "Now set the number of ratings column:"
    },
    {
      "metadata": {
        "trusted": true
      },
      "cell_type": "code",
      "source": "ratings['num of ratings'] = pd.DataFrame(df.groupby('title')['rating'].count())\nratings.head()",
      "execution_count": 70,
      "outputs": [
        {
          "output_type": "execute_result",
          "execution_count": 70,
          "data": {
            "text/plain": "                                         rating  num of ratings\ntitle                                                          \n'71 (2014)                                  4.0               1\n'Hellboy': The Seeds of Creation (2004)     4.0               1\n'Round Midnight (1986)                      3.5               2\n'Salem's Lot (2004)                         5.0               1\n'Til There Was You (1997)                   4.0               2",
            "text/html": "<div>\n<table border=\"1\" class=\"dataframe\">\n  <thead>\n    <tr style=\"text-align: right;\">\n      <th></th>\n      <th>rating</th>\n      <th>num of ratings</th>\n    </tr>\n    <tr>\n      <th>title</th>\n      <th></th>\n      <th></th>\n    </tr>\n  </thead>\n  <tbody>\n    <tr>\n      <th>'71 (2014)</th>\n      <td>4.0</td>\n      <td>1</td>\n    </tr>\n    <tr>\n      <th>'Hellboy': The Seeds of Creation (2004)</th>\n      <td>4.0</td>\n      <td>1</td>\n    </tr>\n    <tr>\n      <th>'Round Midnight (1986)</th>\n      <td>3.5</td>\n      <td>2</td>\n    </tr>\n    <tr>\n      <th>'Salem's Lot (2004)</th>\n      <td>5.0</td>\n      <td>1</td>\n    </tr>\n    <tr>\n      <th>'Til There Was You (1997)</th>\n      <td>4.0</td>\n      <td>2</td>\n    </tr>\n  </tbody>\n</table>\n</div>"
          },
          "metadata": {}
        }
      ]
    },
    {
      "metadata": {},
      "cell_type": "markdown",
      "source": "Now a few histograms:"
    },
    {
      "metadata": {
        "trusted": true
      },
      "cell_type": "code",
      "source": "plt.figure(figsize=(10,4))\nratings['num of ratings'].hist(bins=70)",
      "execution_count": 71,
      "outputs": [
        {
          "output_type": "execute_result",
          "execution_count": 71,
          "data": {
            "text/plain": "<matplotlib.axes._subplots.AxesSubplot at 0x7ff3f6d98940>"
          },
          "metadata": {}
        },
        {
          "output_type": "display_data",
          "data": {
            "image/png": "[encoded data removed]",
            "text/plain": "<matplotlib.figure.Figure at 0x7ff3f999c588>"
          },
          "metadata": {}
        }
      ]
    },
    {
      "metadata": {
        "trusted": true
      },
      "cell_type": "code",
      "source": "plt.figure(figsize=(10,4))\nratings['rating'].hist(bins=70)",
      "execution_count": 72,
      "outputs": [
        {
          "output_type": "execute_result",
          "execution_count": 72,
          "data": {
            "text/plain": "<matplotlib.axes._subplots.AxesSubplot at 0x7ff3f5ab7ac8>"
          },
          "metadata": {}
        },
        {
          "output_type": "display_data",
          "data": {
            "image/png": "[encoded data removed]",
            "text/plain": "<matplotlib.figure.Figure at 0x7ff3f5b472b0>"
          },
          "metadata": {}
        }
      ]
    },
    {
      "metadata": {
        "trusted": true
      },
      "cell_type": "code",
      "source": "sns.jointplot(x='rating',y='num of ratings',data=ratings,alpha=0.5)",
      "execution_count": 73,
      "outputs": [
        {
          "output_type": "stream",
          "text": "/home/nbuser/anaconda3_420/lib/python3.5/site-packages/scipy/stats/stats.py:1713: FutureWarning: Using a non-tuple sequence for multidimensional indexing is deprecated; use `arr[tuple(seq)]` instead of `arr[seq]`. In the future this will be interpreted as an array index, `arr[np.array(seq)]`, which will result either in an error or a different result.\n  return np.add.reduce(sorted[indexer] * weights, axis=axis) / sumval\n",
          "name": "stderr"
        },
        {
          "output_type": "execute_result",
          "execution_count": 73,
          "data": {
            "text/plain": "<seaborn.axisgrid.JointGrid at 0x7ff3f53992e8>"
          },
          "metadata": {}
        },
        {
          "output_type": "display_data",
          "data": {
            "image/png": "[encoded data removed]",
            "text/plain": "<matplotlib.figure.Figure at 0x7ff3f5399320>"
          },
          "metadata": {}
        }
      ]
    },
    {
      "metadata": {},
      "cell_type": "markdown",
      "source": "Okay! Now that we have a general idea of what the data looks like, let's move on to creating a simple recommendation system:"
    },
    {
      "metadata": {},
      "cell_type": "markdown",
      "source": "## Wider Pivot table"
    },
    {
      "metadata": {},
      "cell_type": "markdown",
      "source": "Now let's create a matrix that has the user ids on one access and the movie title on another axis. Each cell will then consist of the rating the user gave to that movie. Note there will be a lot of NaN values, because most people have not seen most of the movies."
    },
    {
      "metadata": {
        "trusted": true
      },
      "cell_type": "code",
      "source": "wider_pivot = df.pivot_table(index='userId',columns='title',values='rating')\nwider_pivot.head()",
      "execution_count": 74,
      "outputs": [
        {
          "output_type": "execute_result",
          "execution_count": 74,
          "data": {
            "text/plain": "title   '71 (2014)  'Hellboy': The Seeds of Creation (2004)  \\\nuserId                                                        \n1              NaN                                      NaN   \n2              NaN                                      NaN   \n3              NaN                                      NaN   \n4              NaN                                      NaN   \n5              NaN                                      NaN   \n\ntitle   'Round Midnight (1986)  'Salem's Lot (2004)  \\\nuserId                                                \n1                          NaN                  NaN   \n2                          NaN                  NaN   \n3                          NaN                  NaN   \n4                          NaN                  NaN   \n5                          NaN                  NaN   \n\ntitle   'Til There Was You (1997)  'Tis the Season for Love (2015)  \\\nuserId                                                               \n1                             NaN                              NaN   \n2                             NaN                              NaN   \n3                             NaN                              NaN   \n4                             NaN                              NaN   \n5                             NaN                              NaN   \n\ntitle   'burbs, The (1989)  'night Mother (1986)  (500) Days of Summer (2009)  \\\nuserId                                                                          \n1                      NaN                   NaN                          NaN   \n2                      NaN                   NaN                          NaN   \n3                      NaN                   NaN                          NaN   \n4                      NaN                   NaN                          NaN   \n5                      NaN                   NaN                          NaN   \n\ntitle   *batteries not included (1987)  \\\nuserId                                   \n1                                  NaN   \n2                                  NaN   \n3                                  NaN   \n4                                  NaN   \n5                                  NaN   \n\ntitle                     ...                      Zulu (2013)  [REC] (2007)  \\\nuserId                    ...                                                  \n1                         ...                              NaN           NaN   \n2                         ...                              NaN           NaN   \n3                         ...                              NaN           NaN   \n4                         ...                              NaN           NaN   \n5                         ...                              NaN           NaN   \n\ntitle   [REC]² (2009)  [REC]³ 3 Génesis (2012)  \\\nuserId                                           \n1                 NaN                      NaN   \n2                 NaN                      NaN   \n3                 NaN                      NaN   \n4                 NaN                      NaN   \n5                 NaN                      NaN   \n\ntitle   anohana: The Flower We Saw That Day - The Movie (2013)  \\\nuserId                                                           \n1                                                     NaN        \n2                                                     NaN        \n3                                                     NaN        \n4                                                     NaN        \n5                                                     NaN        \n\ntitle   eXistenZ (1999)  xXx (2002)  xXx: State of the Union (2005)  \\\nuserId                                                                \n1                   NaN         NaN                             NaN   \n2                   NaN         NaN                             NaN   \n3                   NaN         NaN                             NaN   \n4                   NaN         NaN                             NaN   \n5                   NaN         NaN                             NaN   \n\ntitle   ¡Three Amigos! (1986)  À nous la liberté (Freedom for Us) (1931)  \nuserId                                                                    \n1                         4.0                                        NaN  \n2                         NaN                                        NaN  \n3                         NaN                                        NaN  \n4                         NaN                                        NaN  \n5                         NaN                                        NaN  \n\n[5 rows x 9719 columns]",
            "text/html": "<div>\n<table border=\"1\" class=\"dataframe\">\n  <thead>\n    <tr style=\"text-align: right;\">\n      <th>title</th>\n      <th>'71 (2014)</th>\n      <th>'Hellboy': The Seeds of Creation (2004)</th>\n      <th>'Round Midnight (1986)</th>\n      <th>'Salem's Lot (2004)</th>\n      <th>'Til There Was You (1997)</th>\n      <th>'Tis the Season for Love (2015)</th>\n      <th>'burbs, The (1989)</th>\n      <th>'night Mother (1986)</th>\n      <th>(500) Days of Summer (2009)</th>\n      <th>*batteries not included (1987)</th>\n      <th>...</th>\n      <th>Zulu (2013)</th>\n      <th>[REC] (2007)</th>\n      <th>[REC]² (2009)</th>\n      <th>[REC]³ 3 Génesis (2012)</th>\n      <th>anohana: The Flower We Saw That Day - The Movie (2013)</th>\n      <th>eXistenZ (1999)</th>\n      <th>xXx (2002)</th>\n      <th>xXx: State of the Union (2005)</th>\n      <th>¡Three Amigos! (1986)</th>\n      <th>À nous la liberté (Freedom for Us) (1931)</th>\n    </tr>\n    <tr>\n      <th>userId</th>\n      <th></th>\n      <th></th>\n      <th></th>\n      <th></th>\n      <th></th>\n      <th></th>\n      <th></th>\n      <th></th>\n      <th></th>\n      <th></th>\n      <th></th>\n      <th></th>\n      <th></th>\n      <th></th>\n      <th></th>\n      <th></th>\n      <th></th>\n      <th></th>\n      <th></th>\n      <th></th>\n      <th></th>\n    </tr>\n  </thead>\n  <tbody>\n    <tr>\n      <th>1</th>\n      <td>NaN</td>\n      <td>NaN</td>\n      <td>NaN</td>\n      <td>NaN</td>\n      <td>NaN</td>\n      <td>NaN</td>\n      <td>NaN</td>\n      <td>NaN</td>\n      <td>NaN</td>\n      <td>NaN</td>\n      <td>...</td>\n      <td>NaN</td>\n      <td>NaN</td>\n      <td>NaN</td>\n      <td>NaN</td>\n      <td>NaN</td>\n      <td>NaN</td>\n      <td>NaN</td>\n      <td>NaN</td>\n      <td>4.0</td>\n      <td>NaN</td>\n    </tr>\n    <tr>\n      <th>2</th>\n      <td>NaN</td>\n      <td>NaN</td>\n      <td>NaN</td>\n      <td>NaN</td>\n      <td>NaN</td>\n      <td>NaN</td>\n      <td>NaN</td>\n      <td>NaN</td>\n      <td>NaN</td>\n      <td>NaN</td>\n      <td>...</td>\n      <td>NaN</td>\n      <td>NaN</td>\n      <td>NaN</td>\n      <td>NaN</td>\n      <td>NaN</td>\n      <td>NaN</td>\n      <td>NaN</td>\n      <td>NaN</td>\n      <td>NaN</td>\n      <td>NaN</td>\n    </tr>\n    <tr>\n      <th>3</th>\n      <td>NaN</td>\n      <td>NaN</td>\n      <td>NaN</td>\n      <td>NaN</td>\n      <td>NaN</td>\n      <td>NaN</td>\n      <td>NaN</td>\n      <td>NaN</td>\n      <td>NaN</td>\n      <td>NaN</td>\n      <td>...</td>\n      <td>NaN</td>\n      <td>NaN</td>\n      <td>NaN</td>\n      <td>NaN</td>\n      <td>NaN</td>\n      <td>NaN</td>\n      <td>NaN</td>\n      <td>NaN</td>\n      <td>NaN</td>\n      <td>NaN</td>\n    </tr>\n    <tr>\n      <th>4</th>\n      <td>NaN</td>\n      <td>NaN</td>\n      <td>NaN</td>\n      <td>NaN</td>\n      <td>NaN</td>\n      <td>NaN</td>\n      <td>NaN</td>\n      <td>NaN</td>\n      <td>NaN</td>\n      <td>NaN</td>\n      <td>...</td>\n      <td>NaN</td>\n      <td>NaN</td>\n      <td>NaN</td>\n      <td>NaN</td>\n      <td>NaN</td>\n      <td>NaN</td>\n      <td>NaN</td>\n      <td>NaN</td>\n      <td>NaN</td>\n      <td>NaN</td>\n    </tr>\n    <tr>\n      <th>5</th>\n      <td>NaN</td>\n      <td>NaN</td>\n      <td>NaN</td>\n      <td>NaN</td>\n      <td>NaN</td>\n      <td>NaN</td>\n      <td>NaN</td>\n      <td>NaN</td>\n      <td>NaN</td>\n      <td>NaN</td>\n      <td>...</td>\n      <td>NaN</td>\n      <td>NaN</td>\n      <td>NaN</td>\n      <td>NaN</td>\n      <td>NaN</td>\n      <td>NaN</td>\n      <td>NaN</td>\n      <td>NaN</td>\n      <td>NaN</td>\n      <td>NaN</td>\n    </tr>\n  </tbody>\n</table>\n<p>5 rows × 9719 columns</p>\n</div>"
          },
          "metadata": {}
        }
      ]
    },
    {
      "metadata": {},
      "cell_type": "markdown",
      "source": "Most rated movie:"
    },
    {
      "metadata": {
        "trusted": true
      },
      "cell_type": "code",
      "source": "ratings.sort_values('num of ratings',ascending=False).head(10)",
      "execution_count": 75,
      "outputs": [
        {
          "output_type": "execute_result",
          "execution_count": 75,
          "data": {
            "text/plain": "                                             rating  num of ratings\ntitle                                                              \nForrest Gump (1994)                        4.164134             329\nShawshank Redemption, The (1994)           4.429022             317\nPulp Fiction (1994)                        4.197068             307\nSilence of the Lambs, The (1991)           4.161290             279\nMatrix, The (1999)                         4.192446             278\nStar Wars: Episode IV - A New Hope (1977)  4.231076             251\nJurassic Park (1993)                       3.750000             238\nBraveheart (1995)                          4.031646             237\nTerminator 2: Judgment Day (1991)          3.970982             224\nSchindler's List (1993)                    4.225000             220",
            "text/html": "<div>\n<table border=\"1\" class=\"dataframe\">\n  <thead>\n    <tr style=\"text-align: right;\">\n      <th></th>\n      <th>rating</th>\n      <th>num of ratings</th>\n    </tr>\n    <tr>\n      <th>title</th>\n      <th></th>\n      <th></th>\n    </tr>\n  </thead>\n  <tbody>\n    <tr>\n      <th>Forrest Gump (1994)</th>\n      <td>4.164134</td>\n      <td>329</td>\n    </tr>\n    <tr>\n      <th>Shawshank Redemption, The (1994)</th>\n      <td>4.429022</td>\n      <td>317</td>\n    </tr>\n    <tr>\n      <th>Pulp Fiction (1994)</th>\n      <td>4.197068</td>\n      <td>307</td>\n    </tr>\n    <tr>\n      <th>Silence of the Lambs, The (1991)</th>\n      <td>4.161290</td>\n      <td>279</td>\n    </tr>\n    <tr>\n      <th>Matrix, The (1999)</th>\n      <td>4.192446</td>\n      <td>278</td>\n    </tr>\n    <tr>\n      <th>Star Wars: Episode IV - A New Hope (1977)</th>\n      <td>4.231076</td>\n      <td>251</td>\n    </tr>\n    <tr>\n      <th>Jurassic Park (1993)</th>\n      <td>3.750000</td>\n      <td>238</td>\n    </tr>\n    <tr>\n      <th>Braveheart (1995)</th>\n      <td>4.031646</td>\n      <td>237</td>\n    </tr>\n    <tr>\n      <th>Terminator 2: Judgment Day (1991)</th>\n      <td>3.970982</td>\n      <td>224</td>\n    </tr>\n    <tr>\n      <th>Schindler's List (1993)</th>\n      <td>4.225000</td>\n      <td>220</td>\n    </tr>\n  </tbody>\n</table>\n</div>"
          },
          "metadata": {}
        }
      ]
    },
    {
      "metadata": {},
      "cell_type": "markdown",
      "source": "Let's choose two movies: Jurassic Park (1993) And Schindler's List (1993)."
    },
    {
      "metadata": {
        "trusted": true
      },
      "cell_type": "code",
      "source": "ratings.head()",
      "execution_count": 76,
      "outputs": [
        {
          "output_type": "execute_result",
          "execution_count": 76,
          "data": {
            "text/plain": "                                         rating  num of ratings\ntitle                                                          \n'71 (2014)                                  4.0               1\n'Hellboy': The Seeds of Creation (2004)     4.0               1\n'Round Midnight (1986)                      3.5               2\n'Salem's Lot (2004)                         5.0               1\n'Til There Was You (1997)                   4.0               2",
            "text/html": "<div>\n<table border=\"1\" class=\"dataframe\">\n  <thead>\n    <tr style=\"text-align: right;\">\n      <th></th>\n      <th>rating</th>\n      <th>num of ratings</th>\n    </tr>\n    <tr>\n      <th>title</th>\n      <th></th>\n      <th></th>\n    </tr>\n  </thead>\n  <tbody>\n    <tr>\n      <th>'71 (2014)</th>\n      <td>4.0</td>\n      <td>1</td>\n    </tr>\n    <tr>\n      <th>'Hellboy': The Seeds of Creation (2004)</th>\n      <td>4.0</td>\n      <td>1</td>\n    </tr>\n    <tr>\n      <th>'Round Midnight (1986)</th>\n      <td>3.5</td>\n      <td>2</td>\n    </tr>\n    <tr>\n      <th>'Salem's Lot (2004)</th>\n      <td>5.0</td>\n      <td>1</td>\n    </tr>\n    <tr>\n      <th>'Til There Was You (1997)</th>\n      <td>4.0</td>\n      <td>2</td>\n    </tr>\n  </tbody>\n</table>\n</div>"
          },
          "metadata": {}
        }
      ]
    },
    {
      "metadata": {},
      "cell_type": "markdown",
      "source": "Now let's grab the user ratings for those two movies:"
    },
    {
      "metadata": {
        "trusted": true
      },
      "cell_type": "code",
      "source": "Jurassic_user_ratings = wider_pivot['Jurassic Park (1993)']\nSchindler_user_ratings = wider_pivot['Schindler\\'s List (1993)']\nJurassic_user_ratings.head()",
      "execution_count": 77,
      "outputs": [
        {
          "output_type": "execute_result",
          "execution_count": 77,
          "data": {
            "text/plain": "userId\n1    4.0\n2    NaN\n3    NaN\n4    NaN\n5    NaN\nName: Jurassic Park (1993), dtype: float64"
          },
          "metadata": {}
        }
      ]
    },
    {
      "metadata": {},
      "cell_type": "markdown",
      "source": "We can then use corrwith() method to get correlations between two pandas series:"
    },
    {
      "metadata": {
        "trusted": true
      },
      "cell_type": "code",
      "source": "similar_to_Jurassic = wider_pivot.corrwith(Jurassic_user_ratings)\nsimilar_to_Schindler = wider_pivot.corrwith(Schindler_user_ratings)",
      "execution_count": 78,
      "outputs": [
        {
          "output_type": "stream",
          "text": "/home/nbuser/anaconda3_420/lib/python3.5/site-packages/numpy/lib/function_base.py:2526: RuntimeWarning: Degrees of freedom <= 0 for slice\n  c = cov(x, y, rowvar)\n/home/nbuser/anaconda3_420/lib/python3.5/site-packages/numpy/lib/function_base.py:2455: RuntimeWarning: divide by zero encountered in true_divide\n  c *= np.true_divide(1, fact)\n",
          "name": "stderr"
        }
      ]
    },
    {
      "metadata": {},
      "cell_type": "markdown",
      "source": "Let's clean this by removing NaN values and using a DataFrame instead of a series:"
    },
    {
      "metadata": {
        "trusted": true
      },
      "cell_type": "code",
      "source": "corr_Jurassic = pd.DataFrame(similar_to_Jurassic,columns=['Correlation'])\ncorr_Jurassic.dropna(inplace=True)\ncorr_Jurassic.head()",
      "execution_count": 79,
      "outputs": [
        {
          "output_type": "execute_result",
          "execution_count": 79,
          "data": {
            "text/plain": "                                Correlation\ntitle                                      \n'burbs, The (1989)                 0.104077\n(500) Days of Summer (2009)       -0.125237\n*batteries not included (1987)     0.290929\n...And Justice for All (1979)     -0.981981\n10 Cent Pistol (2015)             -1.000000",
            "text/html": "<div>\n<table border=\"1\" class=\"dataframe\">\n  <thead>\n    <tr style=\"text-align: right;\">\n      <th></th>\n      <th>Correlation</th>\n    </tr>\n    <tr>\n      <th>title</th>\n      <th></th>\n    </tr>\n  </thead>\n  <tbody>\n    <tr>\n      <th>'burbs, The (1989)</th>\n      <td>0.104077</td>\n    </tr>\n    <tr>\n      <th>(500) Days of Summer (2009)</th>\n      <td>-0.125237</td>\n    </tr>\n    <tr>\n      <th>*batteries not included (1987)</th>\n      <td>0.290929</td>\n    </tr>\n    <tr>\n      <th>...And Justice for All (1979)</th>\n      <td>-0.981981</td>\n    </tr>\n    <tr>\n      <th>10 Cent Pistol (2015)</th>\n      <td>-1.000000</td>\n    </tr>\n  </tbody>\n</table>\n</div>"
          },
          "metadata": {}
        }
      ]
    },
    {
      "metadata": {},
      "cell_type": "markdown",
      "source": "Now if we sort the dataframe by correlation, we should get the most similar movies, however note that we get some results that don't really make sense. This is because there are a lot of movies only watched once by users who also watched star wars (it was the most popular movie). "
    },
    {
      "metadata": {
        "trusted": true
      },
      "cell_type": "code",
      "source": "corr_Jurassic.sort_values('Correlation',ascending=False).head(10)",
      "execution_count": 80,
      "outputs": [
        {
          "output_type": "execute_result",
          "execution_count": 80,
          "data": {
            "text/plain": "                                                    Correlation\ntitle                                                          \nIn the Valley of Elah (2007)                                1.0\nThe Overnight (2015)                                        1.0\nMonkey Business (1952)                                      1.0\nCup, The (Phörpa) (1999)                                    1.0\nFear (1996)                                                 1.0\nFeast (2005)                                                1.0\nPolice Story 2 (Ging chaat goo si juk jaap) (1988)          1.0\nInsidious (2010)                                            1.0\nWhistleblower, The (2010)                                   1.0\nWhen the Cat's Away (Chacun cherche son chat) (...          1.0",
            "text/html": "<div>\n<table border=\"1\" class=\"dataframe\">\n  <thead>\n    <tr style=\"text-align: right;\">\n      <th></th>\n      <th>Correlation</th>\n    </tr>\n    <tr>\n      <th>title</th>\n      <th></th>\n    </tr>\n  </thead>\n  <tbody>\n    <tr>\n      <th>In the Valley of Elah (2007)</th>\n      <td>1.0</td>\n    </tr>\n    <tr>\n      <th>The Overnight (2015)</th>\n      <td>1.0</td>\n    </tr>\n    <tr>\n      <th>Monkey Business (1952)</th>\n      <td>1.0</td>\n    </tr>\n    <tr>\n      <th>Cup, The (Phörpa) (1999)</th>\n      <td>1.0</td>\n    </tr>\n    <tr>\n      <th>Fear (1996)</th>\n      <td>1.0</td>\n    </tr>\n    <tr>\n      <th>Feast (2005)</th>\n      <td>1.0</td>\n    </tr>\n    <tr>\n      <th>Police Story 2 (Ging chaat goo si juk jaap) (1988)</th>\n      <td>1.0</td>\n    </tr>\n    <tr>\n      <th>Insidious (2010)</th>\n      <td>1.0</td>\n    </tr>\n    <tr>\n      <th>Whistleblower, The (2010)</th>\n      <td>1.0</td>\n    </tr>\n    <tr>\n      <th>When the Cat's Away (Chacun cherche son chat) (1996)</th>\n      <td>1.0</td>\n    </tr>\n  </tbody>\n</table>\n</div>"
          },
          "metadata": {}
        }
      ]
    },
    {
      "metadata": {},
      "cell_type": "markdown",
      "source": "Let's fix this by filtering out movies that have less than 100 reviews (this value was chosen based off the histogram from earlier)."
    },
    {
      "metadata": {
        "trusted": true
      },
      "cell_type": "code",
      "source": "corr_Jurassic = corr_Jurassic.join(ratings['num of ratings'])\ncorr_Jurassic.head()",
      "execution_count": 81,
      "outputs": [
        {
          "output_type": "execute_result",
          "execution_count": 81,
          "data": {
            "text/plain": "                                Correlation  num of ratings\ntitle                                                      \n'burbs, The (1989)                 0.104077              17\n(500) Days of Summer (2009)       -0.125237              42\n*batteries not included (1987)     0.290929               7\n...And Justice for All (1979)     -0.981981               3\n10 Cent Pistol (2015)             -1.000000               2",
            "text/html": "<div>\n<table border=\"1\" class=\"dataframe\">\n  <thead>\n    <tr style=\"text-align: right;\">\n      <th></th>\n      <th>Correlation</th>\n      <th>num of ratings</th>\n    </tr>\n    <tr>\n      <th>title</th>\n      <th></th>\n      <th></th>\n    </tr>\n  </thead>\n  <tbody>\n    <tr>\n      <th>'burbs, The (1989)</th>\n      <td>0.104077</td>\n      <td>17</td>\n    </tr>\n    <tr>\n      <th>(500) Days of Summer (2009)</th>\n      <td>-0.125237</td>\n      <td>42</td>\n    </tr>\n    <tr>\n      <th>*batteries not included (1987)</th>\n      <td>0.290929</td>\n      <td>7</td>\n    </tr>\n    <tr>\n      <th>...And Justice for All (1979)</th>\n      <td>-0.981981</td>\n      <td>3</td>\n    </tr>\n    <tr>\n      <th>10 Cent Pistol (2015)</th>\n      <td>-1.000000</td>\n      <td>2</td>\n    </tr>\n  </tbody>\n</table>\n</div>"
          },
          "metadata": {}
        }
      ]
    },
    {
      "metadata": {},
      "cell_type": "markdown",
      "source": "Now sort the values and notice how the titles make a lot more sense:"
    },
    {
      "metadata": {
        "trusted": true
      },
      "cell_type": "code",
      "source": "corr_Jurassic[corr_Jurassic['num of ratings']>100].sort_values('Correlation',ascending=False).head()",
      "execution_count": 82,
      "outputs": [
        {
          "output_type": "execute_result",
          "execution_count": 82,
          "data": {
            "text/plain": "                                             Correlation  num of ratings\ntitle                                                                   \nJurassic Park (1993)                            1.000000             238\nOutbreak (1995)                                 0.533780             101\nGhostbusters (a.k.a. Ghost Busters) (1984)      0.522286             120\nFugitive, The (1993)                            0.460603             190\nIndiana Jones and the Temple of Doom (1984)     0.456533             108",
            "text/html": "<div>\n<table border=\"1\" class=\"dataframe\">\n  <thead>\n    <tr style=\"text-align: right;\">\n      <th></th>\n      <th>Correlation</th>\n      <th>num of ratings</th>\n    </tr>\n    <tr>\n      <th>title</th>\n      <th></th>\n      <th></th>\n    </tr>\n  </thead>\n  <tbody>\n    <tr>\n      <th>Jurassic Park (1993)</th>\n      <td>1.000000</td>\n      <td>238</td>\n    </tr>\n    <tr>\n      <th>Outbreak (1995)</th>\n      <td>0.533780</td>\n      <td>101</td>\n    </tr>\n    <tr>\n      <th>Ghostbusters (a.k.a. Ghost Busters) (1984)</th>\n      <td>0.522286</td>\n      <td>120</td>\n    </tr>\n    <tr>\n      <th>Fugitive, The (1993)</th>\n      <td>0.460603</td>\n      <td>190</td>\n    </tr>\n    <tr>\n      <th>Indiana Jones and the Temple of Doom (1984)</th>\n      <td>0.456533</td>\n      <td>108</td>\n    </tr>\n  </tbody>\n</table>\n</div>"
          },
          "metadata": {}
        }
      ]
    },
    {
      "metadata": {},
      "cell_type": "markdown",
      "source": "Now the same for the comedy Liar Liar:"
    },
    {
      "metadata": {
        "trusted": true
      },
      "cell_type": "code",
      "source": "corr_Schindler = pd.DataFrame(similar_to_Schindler,columns=['Correlation'])\ncorr_Schindler.dropna(inplace=True)\ncorr_Schindler = corr_Schindler.join(ratings['num of ratings'])\ncorr_Schindler[corr_Schindler['num of ratings']>100].sort_values('Correlation',ascending=False).head()",
      "execution_count": 83,
      "outputs": [
        {
          "output_type": "execute_result",
          "execution_count": 83,
          "data": {
            "text/plain": "                                  Correlation  num of ratings\ntitle                                                        \nSchindler's List (1993)              1.000000             220\nGodfather, The (1972)                0.456661             192\nSaving Private Ryan (1998)           0.430103             188\nShawshank Redemption, The (1994)     0.402202             317\nGodfather: Part II, The (1974)       0.402173             129",
            "text/html": "<div>\n<table border=\"1\" class=\"dataframe\">\n  <thead>\n    <tr style=\"text-align: right;\">\n      <th></th>\n      <th>Correlation</th>\n      <th>num of ratings</th>\n    </tr>\n    <tr>\n      <th>title</th>\n      <th></th>\n      <th></th>\n    </tr>\n  </thead>\n  <tbody>\n    <tr>\n      <th>Schindler's List (1993)</th>\n      <td>1.000000</td>\n      <td>220</td>\n    </tr>\n    <tr>\n      <th>Godfather, The (1972)</th>\n      <td>0.456661</td>\n      <td>192</td>\n    </tr>\n    <tr>\n      <th>Saving Private Ryan (1998)</th>\n      <td>0.430103</td>\n      <td>188</td>\n    </tr>\n    <tr>\n      <th>Shawshank Redemption, The (1994)</th>\n      <td>0.402202</td>\n      <td>317</td>\n    </tr>\n    <tr>\n      <th>Godfather: Part II, The (1974)</th>\n      <td>0.402173</td>\n      <td>129</td>\n    </tr>\n  </tbody>\n</table>\n</div>"
          },
          "metadata": {}
        }
      ]
    },
    {
      "metadata": {},
      "cell_type": "markdown",
      "source": ""
    },
    {
      "metadata": {
        "trusted": false
      },
      "cell_type": "code",
      "source": "",
      "execution_count": null,
      "outputs": []
    }
  ],
  "metadata": {
    "kernelspec": {
      "name": "python3",
      "display_name": "Python 3",
      "language": "python"
    },
    "language_info": {
      "mimetype": "text/x-python",
      "nbconvert_exporter": "python",
      "name": "python",
      "file_extension": ".py",
      "version": "3.5.4",
      "pygments_lexer": "ipython3",
      "codemirror_mode": {
        "version": 3,
        "name": "ipython"
      }
    }
  },
  "nbformat": 4,
  "nbformat_minor": 1
}
